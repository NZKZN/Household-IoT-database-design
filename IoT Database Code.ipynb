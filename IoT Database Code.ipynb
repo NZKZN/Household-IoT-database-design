{
 "cells": [
  {
   "cell_type": "markdown",
   "metadata": {},
   "source": [
    "# Contents\n",
    "## 1. Sqlite\n",
    "### 1.1 Creat\n",
    "### 1.2 Update\n",
    "### 1.3 Delete\n",
    "### 1.4 Retrieve\n",
    "## 2. MongoDB\n",
    "### 2.1 Creat\n",
    "### 2.2 Update\n",
    "### 2.3 Delete\n",
    "### 2.4 Index\n",
    "### 2.5 Retrieve\n",
    "## 3. Combine Sqlite and MongoDB"
   ]
  },
  {
   "cell_type": "code",
   "execution_count": null,
   "metadata": {},
   "outputs": [],
   "source": []
  },
  {
   "cell_type": "markdown",
   "metadata": {},
   "source": [
    "# 1. Sqlite\n"
   ]
  },
  {
   "cell_type": "code",
   "execution_count": 1,
   "metadata": {},
   "outputs": [],
   "source": [
    "import sqlite3"
   ]
  },
  {
   "cell_type": "code",
   "execution_count": 2,
   "metadata": {},
   "outputs": [
    {
     "name": "stdout",
     "output_type": "stream",
     "text": [
      "<class 'sqlite3.Connection'>\n",
      "<class 'sqlite3.Cursor'>\n"
     ]
    }
   ],
   "source": [
    "conn=sqlite3.connect('S:\\\\SQLite\\\\BEMM459_IoT.db')  \n",
    "print(type(conn))\n",
    "cur=conn.cursor()\n",
    "print(type(cur))"
   ]
  },
  {
   "cell_type": "code",
   "execution_count": 3,
   "metadata": {},
   "outputs": [],
   "source": [
    "def tables_in_sqlite_db(conn):\n",
    "    cursor = conn.execute(\"SELECT name FROM sqlite_master WHERE type='table';\")\n",
    "    tables = [\n",
    "        v[0] for v in cursor.fetchall()\n",
    "        if v[0] != \"sqlite_sequence\"\n",
    "    ]\n",
    "    cursor.close()\n",
    "    return tables"
   ]
  },
  {
   "cell_type": "markdown",
   "metadata": {},
   "source": [
    "## 1.1 Create and Drop (DDL)"
   ]
  },
  {
   "cell_type": "code",
   "execution_count": 4,
   "metadata": {},
   "outputs": [
    {
     "name": "stdout",
     "output_type": "stream",
     "text": [
      "Tables created successfully\n"
     ]
    }
   ],
   "source": [
    "qry='''\n",
    "CREATE TABLE User (\n",
    "        user_id       INTEGER     PRIMARY KEY,\n",
    "        user_name     TEXT(10),\n",
    "        user_gender   TEXT(1)     NOT NULL,\n",
    "        user_phone    TEXT(10)    NOT NULL,\n",
    "        user_email    TEXT(30)    NOT NULL,\n",
    "        user_dob      DATE,\n",
    "        user_height   INTEGER,\n",
    "        user_weight   INTEGER\n",
    "    );\n",
    "CREATE TABLE Address (\n",
    "        address_id         INTEGER     PRIMARY KEY,\n",
    "        address_city       TEXT(30)    NOT NULL,\n",
    "        address_postcode   TEXT(10),\n",
    "        address_detail     TEXT(30),\n",
    "        user_id            INTEGER     REFERENCES  User (user_id)  ON UPDATE CASCADE ON DELETE CASCADE\n",
    "    );\n",
    "CREATE TABLE Brand (\n",
    "        brand_id         INTEGER     PRIMARY KEY,\n",
    "        brand_name       TEXT(30)    NOT NULL,\n",
    "        brand_adress     TEXT(30),\n",
    "        brand_phone      TEXT(10)    NOT NULL\n",
    "    );\n",
    "CREATE TABLE Device (\n",
    "        device_id      INTEGER       PRIMARY KEY,\n",
    "        device_type    TEXT(30)      NOT NULL,\n",
    "        device_model   TEXT(30)      NOT NULL,\n",
    "        device_name    TEXT(30),\n",
    "        device_status  INTEGER(1)    NOT NULL,\n",
    "        user_id        INTEGER       NOT NULL     REFERENCES  User (user_id)      ON UPDATE CASCADE ON DELETE CASCADE,\n",
    "        address_id      INTEGER       NOT NULL     REFERENCES  Address (address_id)  ON UPDATE CASCADE ON DELETE SET NULL,\n",
    "        brand_id       INTEGER       NOT NULL     REFERENCES  Brand (brand_id)    ON UPDATE CASCADE ON DELETE SET NULL\n",
    "    );\n",
    "CREATE TABLE Device_Address (\n",
    "        address_id     INTEGER    NOT NULL,\n",
    "        device_id      INTEGER    NOT NULL,\n",
    "        adStarttime    DATE       NOT NULL,\n",
    "        adWorkhours    INTEGER    NOT NULL,\n",
    "        PRIMARY KEY (address_id, device_id),\n",
    "        FOREIGN KEY (address_id)    REFERENCES   Address (address_id) \n",
    "            ON UPDATE CASCADE ON DELETE CASCADE,\n",
    "        FOREIGN KEY (device_id)    REFERENCES   Device (device_id) \n",
    "            ON UPDATE CASCADE ON DELETE CASCADE\n",
    "    );\n",
    "CREATE TABLE wrong_table (\n",
    "        wrong_id      INTEGER       PRIMARY KEY);\n",
    "'''\n",
    "try:\n",
    "        cur.executescript(qry)\n",
    "        print ('Tables created successfully')\n",
    "except:\n",
    "        print ('Error in creating tables')"
   ]
  },
  {
   "cell_type": "code",
   "execution_count": 5,
   "metadata": {},
   "outputs": [
    {
     "name": "stdout",
     "output_type": "stream",
     "text": [
      "Table droped successfully\n"
     ]
    }
   ],
   "source": [
    "# Drop the wrong table\n",
    "qry='''\n",
    "DROP TABLE wrong_table;\n",
    "'''\n",
    "try:\n",
    "        cur.executescript(qry)\n",
    "        print ('Table droped successfully')\n",
    "except:\n",
    "        print ('Error in droped table')"
   ]
  },
  {
   "cell_type": "code",
   "execution_count": 6,
   "metadata": {},
   "outputs": [
    {
     "name": "stdout",
     "output_type": "stream",
     "text": [
      "['User', 'Address', 'Brand', 'Device', 'Device_Address']\n"
     ]
    }
   ],
   "source": [
    "tables = tables_in_sqlite_db(conn)\n",
    "print(tables)"
   ]
  },
  {
   "cell_type": "code",
   "execution_count": 7,
   "metadata": {},
   "outputs": [
    {
     "name": "stdout",
     "output_type": "stream",
     "text": [
      "User Records inserted successfully..committed\n",
      "Address Records inserted successfully..committed\n",
      "Brand Records inserted successfully..committed\n",
      "Device Records inserted successfully..committed\n",
      "Device_Address Records inserted successfully..committed\n"
     ]
    }
   ],
   "source": [
    "# Insert multiple records in table User\n",
    "qry=\"insert into User (user_id, user_name, user_gender, user_phone, user_email, user_dob, user_height, user_weight) values (?,?,?,?,?,?,?,?);\"\n",
    "collegelist=[('10001','Zack','M','1234567891','zack@iot.com', '1997-12-03','',    ''  ),\n",
    "             ('10002','Lisa','F','1234567892','lisa@iot.com', '1995-12-02','1.66','48'),\n",
    "             ('10003','Ray', '', '1234567893','ray@iot.com',  '',          '1.85','60')]\n",
    "try:\n",
    "        cur.executemany(qry, collegelist)\n",
    "        conn.commit()\n",
    "        print ('User Records inserted successfully..committed')\n",
    "except:\n",
    "        print ('Error in insert operation..rollback')\n",
    "        conn.rollback()\n",
    "        \n",
    "        \n",
    "        \n",
    "# Insert multiple records in table Address       \n",
    "qry=\"insert into Address (address_id, address_city, address_postcode, address_detail, user_id) values (?,?,?,?,?);\"\n",
    "collegelist=[('20001','Exeter',  'XXX1','adress1','10001'),\n",
    "             ('20002','Shanghai','XXX2','adress2','10001'),\n",
    "             ('20003','London',  '',    'adress3','10002'),\n",
    "             ('20004','NewYork', 'XXX4','adress4','10003')]\n",
    "try:\n",
    "        cur.executemany(qry, collegelist)\n",
    "        conn.commit()\n",
    "        print ('Address Records inserted successfully..committed')\n",
    "except:\n",
    "        print ('Error in insert operation..rollback')\n",
    "        conn.rollback()\n",
    "        \n",
    "        \n",
    "        \n",
    "# Insert multiple records in table Brand           \n",
    "qry=\"insert into Brand (brand_id, brand_name, brand_adress, brand_phone) values (?,?,?,?);\"\n",
    "collegelist=[('30001','Siemens','brand_adress1','1987654321'),\n",
    "             ('30002','Dyson',  'brand_adress2','2987654321'),\n",
    "             ('30003','Apple',  '',             '3987654321'),\n",
    "             ('30004','Huawei', 'brand_adress4','4987654321')]\n",
    "try:\n",
    "        cur.executemany(qry, collegelist)\n",
    "        conn.commit()\n",
    "        print ('Brand Records inserted successfully..committed')\n",
    "except:\n",
    "        print ('Error in insert operation..rollback')\n",
    "        conn.rollback()\n",
    "        \n",
    "        \n",
    "        \n",
    "# Insert multiple records in table Device  \n",
    "qry=\"insert into Device (device_id, device_type, device_model, device_name, device_status, user_id, address_id, brand_id) values (?,?,?,?,?,?,?,?);\"\n",
    "collegelist=[('40001','Purifier',    'model2','DysonPurifier',      '1','10001','20001','30002'),\n",
    "             ('40002','Refrigerator','model2','SiemensRefrigerator','1','10001','20001','30001'),\n",
    "             ('40003','TV',          'model1','AppleTV',            '0','10001','20001','30003'),\n",
    "             ('40004','Light',       'model5','',                   '1','10001','20002','30002'),\n",
    "             ('40005','Homepod',     'model5','Lisa:Homepod',       '1','10002','20003','30003'),\n",
    "             ('40006','Treadmill',   'model7','Lisa:Treadmill',     '1','10002','20003','30004'),\n",
    "             ('40007','RobotVaccum', 'model2','',                   '1','10003','20004','30002')]\n",
    "try:\n",
    "        cur.executemany(qry, collegelist)\n",
    "        conn.commit()\n",
    "        print ('Device Records inserted successfully..committed')\n",
    "except:\n",
    "        print ('Error in insert operation..rollback')\n",
    "        conn.rollback()\n",
    "        \n",
    "        \n",
    "        \n",
    "# Insert multiple records in table Device_Address          \n",
    "qry=\"insert into Device_Address (address_id, device_id, adStarttime, adWorkhours) values (?,?,?,?);\"\n",
    "collegelist=[('20001','40001','2021-01-01','2788'),\n",
    "             ('20001','40002','2020-02-01','3105'),\n",
    "             ('20001','40003','2020-09-01','321'),\n",
    "             ('20002','40004','2019-06-01','3489'),\n",
    "             ('20003','40005','2020-05-01','4051'),\n",
    "             ('20003','40006','2021-08-01','592'),\n",
    "             ('20004','40007','2021-12-01','1707')]\n",
    "try:\n",
    "        cur.executemany(qry, collegelist)\n",
    "        conn.commit()\n",
    "        print ('Device_Address Records inserted successfully..committed')\n",
    "except:\n",
    "        print ('Error in insert operation..rollback')\n",
    "        conn.rollback()"
   ]
  },
  {
   "cell_type": "markdown",
   "metadata": {},
   "source": [
    "## 1.2 Update"
   ]
  },
  {
   "cell_type": "code",
   "execution_count": 8,
   "metadata": {},
   "outputs": [
    {
     "name": "stdout",
     "output_type": "stream",
     "text": [
      "address_detail  updated\n"
     ]
    }
   ],
   "source": [
    "# Update the detail address data of address_id 20002 in Address table \n",
    "\n",
    "qry='update Address set address_detail=\"adress02\" where address_id=20002'\n",
    "\n",
    "try:\n",
    "        cur.execute(qry)\n",
    "        print ('address_detail  updated')\n",
    "        conn.commit()\n",
    "except:\n",
    "        print ('Error in update operation .. rollback')\n",
    "        conn.rollback()"
   ]
  },
  {
   "cell_type": "code",
   "execution_count": 9,
   "metadata": {},
   "outputs": [
    {
     "name": "stdout",
     "output_type": "stream",
     "text": [
      "Enter user_id of User to update:10003\n",
      "Enter new user_name:Andy\n",
      "user_name name updated\n"
     ]
    }
   ],
   "source": [
    "# Update table based on user input\n",
    "\n",
    "input_user_id=int(input('Enter user_id of User to update:'))\n",
    "input_user_name=input('Enter new user_name:')\n",
    "qry='update User set user_name=? where user_id=?'\n",
    "\n",
    "try:\n",
    "        cur.execute(qry, (input_user_name,input_user_id))\n",
    "        print ('user_name name updated')\n",
    "        conn.commit()\n",
    "except:\n",
    "        print ('Error in update operation .. rollback')\n",
    "        conn.rollback()\n",
    "        \n",
    "# exmaple: user_id=10003, new user_name=Andy"
   ]
  },
  {
   "cell_type": "markdown",
   "metadata": {},
   "source": [
    "## 1.3 Delete"
   ]
  },
  {
   "cell_type": "code",
   "execution_count": 10,
   "metadata": {},
   "outputs": [
    {
     "name": "stdout",
     "output_type": "stream",
     "text": [
      "unconnected device deleted\n"
     ]
    }
   ],
   "source": [
    "# Delete the unconnected device\n",
    "\n",
    "qry='delete from Device where device_status=0'\n",
    "\n",
    "try:\n",
    "        cur.execute(qry)\n",
    "        print ('unconnected device deleted')\n",
    "        conn.commit()\n",
    "except:\n",
    "        print ('Error in delete operation .. rollback')\n",
    "        conn.rollback()"
   ]
  },
  {
   "cell_type": "markdown",
   "metadata": {},
   "source": [
    "## 1.4 Retrieve"
   ]
  },
  {
   "cell_type": "code",
   "execution_count": 11,
   "metadata": {},
   "outputs": [
    {
     "name": "stdout",
     "output_type": "stream",
     "text": [
      "(10001, 'Zack', 'M', '1234567891', 'zack@iot.com', '1997-12-03', '', '')\n"
     ]
    }
   ],
   "source": [
    "# Query and display one record from the table User\n",
    "\n",
    "# Prepare the query String\n",
    "qry=\"select * from User;\"\n",
    "\n",
    "# Execute query on SQLite\n",
    "cur.execute(qry)\n",
    "\n",
    "# Fetch and display one row\n",
    "row=cur.fetchone()\n",
    "\n",
    "print (row)"
   ]
  },
  {
   "cell_type": "code",
   "execution_count": 12,
   "metadata": {},
   "outputs": [
    {
     "name": "stdout",
     "output_type": "stream",
     "text": [
      "Enter Address ID:20001\n",
      "[(40002, 3105), (40001, 2788), (40003, 321)]\n"
     ]
    }
   ],
   "source": [
    "# Query and descendingly display devices' workhours based on the address_id user input\n",
    "# ORDER BY Application\n",
    "\n",
    "inputAddressID=input ('Enter Address ID:')\n",
    "qry=\"select device_id, adWorkhours from Device_Address where address_id=? ORDER BY adWorkhours DESC \";\n",
    "cur.execute(qry, (inputAddressID,))\n",
    "row=cur.fetchall()\n",
    "print (row)\n",
    "\n",
    "# Example address_id=20001"
   ]
  },
  {
   "cell_type": "code",
   "execution_count": 13,
   "metadata": {},
   "outputs": [
    {
     "name": "stdout",
     "output_type": "stream",
     "text": [
      "Enter Device ID:40001\n",
      "[('Purifier',)]\n"
     ]
    }
   ],
   "source": [
    "# Query and display device type from the table Device based on user input\n",
    "\n",
    "inputDeviceID=input ('Enter Device ID:')\n",
    "qry=\"select device_type from Device where device_id=?\";\n",
    "cur.execute(qry, (inputDeviceID,))\n",
    "row=cur.fetchall()\n",
    "print (row)\n",
    "\n",
    "# Example device_id=40001"
   ]
  },
  {
   "cell_type": "code",
   "execution_count": 14,
   "metadata": {},
   "outputs": [
    {
     "name": "stdout",
     "output_type": "stream",
     "text": [
      "[(10001, 3, 3), (10002, 2, 2), (10003, 1, 1)]\n"
     ]
    }
   ],
   "source": [
    "# Count each user's deivces and addresses\n",
    "# COUNT Application \n",
    "\n",
    "# Prepare the query String\n",
    "qry=\"SELECT user_id, COUNT(device_id), COUNT(address_id) FROM Device GROUP BY user_id;\"\n",
    "\n",
    "# Execute query on SQLite\n",
    "cur.execute(qry)\n",
    "\n",
    "# Fetch and display one row\n",
    "row=cur.fetchall()\n",
    "\n",
    "print (row)"
   ]
  },
  {
   "cell_type": "code",
   "execution_count": 15,
   "metadata": {},
   "outputs": [
    {
     "name": "stdout",
     "output_type": "stream",
     "text": [
      "Enter Device ID:40002\n",
      "[('Refrigerator', 'Siemens')]\n"
     ]
    }
   ],
   "source": [
    "# Query and display device_type and brand name based on the device_id user input\n",
    "# JOIN Application \n",
    "\n",
    "# Prepare the query String\n",
    "inputDeviceID=input ('Enter Device ID:')\n",
    "qry=\"SELECT device_type, brand_name FROM Brand JOIN Device on Brand.brand_id = Device.brand_id where device_id=?;\"\n",
    "\n",
    "# Execute query on SQLite\n",
    "cur.execute(qry, (inputDeviceID,))\n",
    "\n",
    "# Fetch and display one row\n",
    "row=cur.fetchall()\n",
    "\n",
    "print (row)\n",
    "\n",
    "# Example device_id= 40002"
   ]
  },
  {
   "cell_type": "code",
   "execution_count": null,
   "metadata": {},
   "outputs": [],
   "source": []
  },
  {
   "cell_type": "code",
   "execution_count": null,
   "metadata": {},
   "outputs": [],
   "source": []
  },
  {
   "cell_type": "markdown",
   "metadata": {},
   "source": [
    "# 2 Mongodb"
   ]
  },
  {
   "cell_type": "code",
   "execution_count": 16,
   "metadata": {},
   "outputs": [],
   "source": [
    "import pymongo  "
   ]
  },
  {
   "cell_type": "code",
   "execution_count": 17,
   "metadata": {},
   "outputs": [],
   "source": [
    "mongoclient = pymongo.MongoClient(\"mongodb://localhost:2570/\")"
   ]
  },
  {
   "cell_type": "code",
   "execution_count": 18,
   "metadata": {
    "scrolled": false
   },
   "outputs": [
    {
     "name": "stdout",
     "output_type": "stream",
     "text": [
      "['admin', 'config', 'local']\n"
     ]
    }
   ],
   "source": [
    "#Check what databases exist - the output is a list of database names\n",
    "print(mongoclient.list_database_names())"
   ]
  },
  {
   "cell_type": "markdown",
   "metadata": {},
   "source": [
    "## 2.1 CREAT"
   ]
  },
  {
   "cell_type": "code",
   "execution_count": 19,
   "metadata": {},
   "outputs": [],
   "source": [
    "# Create new MongoDB IoT database\n",
    "IoTdb = mongoclient[\"IoTdb\"]\n"
   ]
  },
  {
   "cell_type": "code",
   "execution_count": 20,
   "metadata": {},
   "outputs": [
    {
     "name": "stdout",
     "output_type": "stream",
     "text": [
      "{'_id': ObjectId('6102b5a0437563fd340238ed'), 'device_id': 40001}\n",
      "{'_id': ObjectId('6102b5a0437563fd340238ee'), 'device_id': 40002}\n",
      "{'_id': ObjectId('6102b5a0437563fd340238ef'), 'device_id': 40003}\n",
      "{'_id': ObjectId('6102b5a0437563fd340238f0'), 'device_id': 40004}\n",
      "{'_id': ObjectId('6102b5a0437563fd340238f1'), 'device_id': 40005}\n",
      "{'_id': ObjectId('6102b5a0437563fd340238f2'), 'device_id': 40006}\n",
      "{'_id': ObjectId('6102b5a0437563fd340238f3'), 'device_id': 40007}\n"
     ]
    }
   ],
   "source": [
    "# Create a new collection called \"Mongo_Devices\"\n",
    "Mongo_Devices  = IoTdb[\"Mongo_Devices \"]\n",
    "# Add documents  \n",
    "mylist = [\n",
    "    {'device_id':40001},\n",
    "    {'device_id':40002},\n",
    "    {'device_id':40003},\n",
    "    {'device_id':40004},\n",
    "    {'device_id':40005},\n",
    "    {'device_id':40006},\n",
    "    {'device_id':40007},\n",
    "]\n",
    "Mongo_Devices.insert_many(mylist)\n",
    "\n",
    "\n",
    "# Query\n",
    "myresult = Mongo_Devices.find()\n",
    "\n",
    "#print the result:\n",
    "for x in myresult:\n",
    "    print(x)"
   ]
  },
  {
   "cell_type": "code",
   "execution_count": 21,
   "metadata": {
    "scrolled": true
   },
   "outputs": [
    {
     "name": "stdout",
     "output_type": "stream",
     "text": [
      "{'_id': ObjectId('6102b5a0437563fd340238f4'), 'user_id': 10001, 'Mongo_Devices': [{'device_id': 40001}, {'device_id': 40002}, {'device_id': 40003}, {'device_id': 40004}]}\n",
      "{'_id': ObjectId('6102b5a0437563fd340238f5'), 'user_id': 10002, 'Mongo_Devices': [{'device_id': 40005}, {'device_id': 40006}]}\n",
      "{'_id': ObjectId('6102b5a0437563fd340238f6'), 'user_id': 10003, 'Mongo_Devices': [{'device_id': 40007}]}\n"
     ]
    }
   ],
   "source": [
    "# Create a new collection called \"Mongo_Users\"\n",
    "Mongo_Users = IoTdb[\"Mongo_Users\"]\n",
    "# Add one document\n",
    "mydict = {'user_id':10001, \n",
    "          'Mongo_Devices':[\n",
    "              {'device_id':40001},\n",
    "              {'device_id':40002},\n",
    "              {'device_id':40003},\n",
    "              {'device_id':40004},\n",
    "         ]}\n",
    "Mongo_Users.insert_one(mydict)\n",
    "# Add many documents\n",
    "mylist = [\n",
    "    {'user_id':10002, \n",
    "     'Mongo_Devices':[\n",
    "         {'device_id':40005},\n",
    "         {'device_id':40006},\n",
    "     ]},\n",
    "    {'user_id':10003, \n",
    "     'Mongo_Devices':[\n",
    "         {'device_id':40007}\n",
    "     ]},\n",
    "]\n",
    "Mongo_Users.insert_many(mylist)\n",
    "\n",
    "\n",
    "# Query\n",
    "myresult = Mongo_Users.find()\n",
    "\n",
    "#print the result:\n",
    "for x in myresult:\n",
    "    print(x)"
   ]
  },
  {
   "cell_type": "code",
   "execution_count": 22,
   "metadata": {},
   "outputs": [
    {
     "name": "stdout",
     "output_type": "stream",
     "text": [
      "{'_id': ObjectId('6102b5a0437563fd340238f7'), 'Mongo_Users': 'user_id(\"10001\")', 'Mongo_Devices': 'device_id(\"40001\")', 'Timestamp': 'ISODate(\"2021-07-01T00:00:00Z\")', 'datas': {'m1': {'s1': {'pm25': 42, 'tem': 16.5, 'hum': 29, 'voc': 9, 'co2': 60, 'level': 79}, 's2': {'pm25': 43, 'tem': 16.4, 'hum': 28, 'voc': 9, 'co2': 62, 'level': 79}, 's300': {'pm25': 44, 'tem': 16.8, 'hum': 29, 'voc': 9, 'co2': 63, 'level': 80}}, 'm2': {'s1': {'pm25': 43, 'tem': 16.7, 'hum': 29.6, 'voc': 10, 'co2': 65, 'level': 79}, 's2': {'pm25': 41, 'tem': 16.5, 'hum': 29.5, 'voc': 2, 'co2': 64, 'level': 79}, 's300': {'pm25': 42, 'tem': 16.4, 'hum': 29.4, 'voc': 2, 'co2': 62, 'level': 79}}, 'm60': {'s1': {'pm25': 44, 'tem': 16.3, 'hum': 29.3, 'voc': 2, 'co2': 65, 'level': 79}, 's2': {'pm25': 46, 'tem': 16.2, 'hum': 29.8, 'voc': 2, 'co2': 63, 'level': 79}, 's300': {'pm25': 45, 'tem': 16.1, 'hum': 29.5, 'voc': 2, 'co2': 60, 'level': 79}}}}\n",
      "{'_id': ObjectId('6102b5a0437563fd340238f8'), 'Mongo_Users': 'user_id(\"10001\")', 'Mongo_Devices': 'device_id(\"40001\")', 'Timestamp': 'ISODate(\"2021-07-01T01:00:00Z\")', 'datas': {'m1': {'s1': {'pm25': 44, 'tem': 16.3, 'hum': 29.4, 'voc': 2, 'co2': 57, 'level': 78}, 's2': {'pm25': 44.5, 'tem': 16.5, 'hum': 29.9, 'voc': 4, 'co2': 55, 'level': 79}, 's300': {'pm25': 43, 'tem': 16.6, 'hum': 29.5, 'voc': 4, 'co2': 58, 'level': 79}}, 'm2': {'s1': {'pm25': 43.5, 'tem': 16.5, 'hum': 29.9, 'voc': 8, 'co2': 60, 'level': 79}, 's2': {'pm25': 43, 'tem': 16.5, 'hum': 30, 'voc': 9, 'co2': 60, 'level': 79}, 's300': {'pm25': 42.5, 'tem': 16.8, 'hum': 29.6, 'voc': 8, 'co2': 62, 'level': 79}}, 'm60': {'s1': {'pm25': 42.5, 'tem': 16.6, 'hum': 29.3, 'voc': 3, 'co2': 59, 'level': 79}, 's2': {'pm25': 44, 'tem': 16.7, 'hum': 29.9, 'voc': 3, 'co2': 60, 'level': 79}, 's300': {'pm25': 42, 'tem': 16.6, 'hum': 30, 'voc': 3, 'co2': 60, 'level': 79}}}}\n",
      "{'_id': ObjectId('6102b5a0437563fd340238f9'), 'Mongo_Users': 'user_id(\"10001\")', 'Mongo_Devices': 'device_id(\"40002\")', 'Timestamp': 'ISODate(\"2021-07-01T00:00:00Z\")', 'datas': 'error'}\n"
     ]
    }
   ],
   "source": [
    "# Create a new collection called \"Measures\"\n",
    "# Take air cleaner for example\n",
    "Measures = IoTdb[\"Measures\"]\n",
    "# pm 42 tem 16 hum 29 voc 9 co2 60 level 79\n",
    "mylist = [\n",
    "    {'Mongo_Users': 'user_id(\"10001\")',\n",
    "     'Mongo_Devices': 'device_id(\"40001\")',\n",
    "     'Timestamp': 'ISODate(\"2021-07-01T00:00:00Z\")',\n",
    "     'datas':{\n",
    "         'm1':{\n",
    "             's1':{'pm25':42, 'tem': 16.5, 'hum':29, 'voc':9, 'co2':60, 'level': 79},\n",
    "             's2':{'pm25':43, 'tem': 16.4, 'hum':28, 'voc':9, 'co2':62, 'level': 79},\n",
    "             # ...\n",
    "             's300':{'pm25':44, 'tem': 16.8, 'hum':29, 'voc':9, 'co2':63, 'level': 80},\n",
    "         },\n",
    "         'm2':{\n",
    "             's1':{'pm25':43, 'tem': 16.7, 'hum':29.6, 'voc':10, 'co2':65, 'level': 79},\n",
    "             's2':{'pm25':41, 'tem': 16.5, 'hum':29.5, 'voc':2, 'co2':64, 'level': 79},\n",
    "             # ...\n",
    "             's300':{'pm25':42, 'tem': 16.4, 'hum':29.4, 'voc':2, 'co2':62, 'level': 79},\n",
    "         },\n",
    "         #...\n",
    "         'm60':{\n",
    "             's1':{'pm25':44, 'tem': 16.3, 'hum':29.3, 'voc':2, 'co2':65, 'level': 79},\n",
    "             's2':{'pm25':46, 'tem': 16.2, 'hum':29.8, 'voc':2, 'co2':63, 'level': 79},\n",
    "             # ...\n",
    "             's300':{'pm25':45, 'tem': 16.1, 'hum':29.5, 'voc':2, 'co2':60, 'level': 79},\n",
    "         }}},\n",
    "    {'Mongo_Users': 'user_id(\"10001\")',\n",
    "     'Mongo_Devices': 'device_id(\"40001\")',\n",
    "     'Timestamp': 'ISODate(\"2021-07-01T01:00:00Z\")',\n",
    "     'datas':{\n",
    "         'm1':{\n",
    "             's1':{'pm25':44, 'tem': 16.3, 'hum':29.4, 'voc':2, 'co2':57, 'level': 78},\n",
    "             's2':{'pm25':44.5, 'tem': 16.5, 'hum':29.9, 'voc':4, 'co2':55, 'level': 79},\n",
    "             # ...\n",
    "             's300':{'pm25':43, 'tem': 16.6, 'hum':29.5, 'voc':4, 'co2':58, 'level': 79},\n",
    "         },\n",
    "         'm2':{\n",
    "             's1':{'pm25':43.5, 'tem': 16.5, 'hum':29.9, 'voc':8, 'co2':60, 'level': 79},\n",
    "             's2':{'pm25':43, 'tem': 16.5, 'hum':30, 'voc':9, 'co2':60, 'level': 79},\n",
    "             # ...\n",
    "             's300':{'pm25':42.5, 'tem': 16.8, 'hum':29.6, 'voc':8, 'co2':62, 'level': 79},\n",
    "         },\n",
    "         #...\n",
    "         'm60':{\n",
    "             's1':{'pm25':42.5, 'tem': 16.6, 'hum':29.3, 'voc':3, 'co2':59, 'level': 79},\n",
    "             's2':{'pm25':44, 'tem': 16.7, 'hum':29.9, 'voc':3, 'co2':60, 'level': 79},\n",
    "             # ...\n",
    "             's300':{'pm25':42, 'tem': 16.6, 'hum':30, 'voc':3, 'co2':60, 'level': 79},\n",
    "         }}},\n",
    "    {'Mongo_Users': 'user_id(\"10001\")',\n",
    "     'Mongo_Devices': 'device_id(\"40002\")',\n",
    "     'Timestamp': 'ISODate(\"2021-07-01T00:00:00Z\")',\n",
    "     'datas':'error'}]\n",
    "\n",
    "Measures.insert_many(mylist)\n",
    "\n",
    "# Query\n",
    "myresult = Measures.find()\n",
    "\n",
    "#print the result:\n",
    "for x in myresult:\n",
    "    print(x)"
   ]
  },
  {
   "cell_type": "markdown",
   "metadata": {},
   "source": [
    "## 2.2 Update"
   ]
  },
  {
   "cell_type": "code",
   "execution_count": 23,
   "metadata": {
    "scrolled": true
   },
   "outputs": [
    {
     "data": {
      "text/plain": [
       "[{'_id': ObjectId('6102b5a0437563fd340238f7'),\n",
       "  'Mongo_Users': 'user_id(\"10001\")',\n",
       "  'Mongo_Devices': 'device_id(\"40001\")',\n",
       "  'Timestamp': 'ISODate(\"2021-07-01T00:00:00Z\")',\n",
       "  'datas': {'m1': {'s1': {'pm25': 42,\n",
       "     'tem': 16.5,\n",
       "     'hum': 29,\n",
       "     'voc': 9,\n",
       "     'co2': 60,\n",
       "     'level': 79},\n",
       "    's2': {'pm25': 43,\n",
       "     'tem': 16.4,\n",
       "     'hum': 28,\n",
       "     'voc': 9,\n",
       "     'co2': 62,\n",
       "     'level': 79},\n",
       "    's300': {'pm25': 44,\n",
       "     'tem': 16.8,\n",
       "     'hum': 29,\n",
       "     'voc': 9,\n",
       "     'co2': 63,\n",
       "     'level': 80}},\n",
       "   'm2': {'s1': {'pm25': 43,\n",
       "     'tem': 16.7,\n",
       "     'hum': 29.6,\n",
       "     'voc': 10,\n",
       "     'co2': 65,\n",
       "     'level': 79},\n",
       "    's2': {'pm25': 41,\n",
       "     'tem': 16.5,\n",
       "     'hum': 29.5,\n",
       "     'voc': 2,\n",
       "     'co2': 64,\n",
       "     'level': 79},\n",
       "    's300': {'pm25': 42,\n",
       "     'tem': 16.4,\n",
       "     'hum': 29.4,\n",
       "     'voc': 2,\n",
       "     'co2': 62,\n",
       "     'level': 79}},\n",
       "   'm60': {'s1': {'pm25': 44,\n",
       "     'tem': 16.3,\n",
       "     'hum': 29.3,\n",
       "     'voc': 2,\n",
       "     'co2': 65,\n",
       "     'level': 79},\n",
       "    's2': {'pm25': 46,\n",
       "     'tem': 16.2,\n",
       "     'hum': 29.8,\n",
       "     'voc': 2,\n",
       "     'co2': 63,\n",
       "     'level': 79},\n",
       "    's300': {'pm25': 45,\n",
       "     'tem': 16.1,\n",
       "     'hum': 29.5,\n",
       "     'voc': 2,\n",
       "     'co2': 60,\n",
       "     'level': 79}}}},\n",
       " {'_id': ObjectId('6102b5a0437563fd340238f8'),\n",
       "  'Mongo_Users': 'user_id(\"10001\")',\n",
       "  'Mongo_Devices': 'device_id(\"40001\")',\n",
       "  'Timestamp': 'ISODate(\"2021-07-01T01:00:00Z\")',\n",
       "  'datas': {'m1': {'s1': {'pm25': 44,\n",
       "     'tem': 16.3,\n",
       "     'hum': 29.4,\n",
       "     'voc': 2,\n",
       "     'co2': 57,\n",
       "     'level': 78},\n",
       "    's2': {'pm25': 42,\n",
       "     'tem': 16.5,\n",
       "     'hum': 29.8,\n",
       "     'voc': 9,\n",
       "     'co2': 60,\n",
       "     'level': 79},\n",
       "    's300': {'pm25': 43,\n",
       "     'tem': 16.6,\n",
       "     'hum': 29.5,\n",
       "     'voc': 4,\n",
       "     'co2': 58,\n",
       "     'level': 79}},\n",
       "   'm2': {'s1': {'pm25': 43.5,\n",
       "     'tem': 16.5,\n",
       "     'hum': 29.9,\n",
       "     'voc': 8,\n",
       "     'co2': 60,\n",
       "     'level': 79},\n",
       "    's2': {'pm25': 43,\n",
       "     'tem': 16.5,\n",
       "     'hum': 30,\n",
       "     'voc': 9,\n",
       "     'co2': 60,\n",
       "     'level': 79},\n",
       "    's300': {'pm25': 42.5,\n",
       "     'tem': 16.8,\n",
       "     'hum': 29.6,\n",
       "     'voc': 8,\n",
       "     'co2': 62,\n",
       "     'level': 79}},\n",
       "   'm60': {'s1': {'pm25': 42.5,\n",
       "     'tem': 16.6,\n",
       "     'hum': 29.3,\n",
       "     'voc': 3,\n",
       "     'co2': 59,\n",
       "     'level': 79},\n",
       "    's2': {'pm25': 44,\n",
       "     'tem': 16.7,\n",
       "     'hum': 29.9,\n",
       "     'voc': 3,\n",
       "     'co2': 60,\n",
       "     'level': 79},\n",
       "    's300': {'pm25': 42,\n",
       "     'tem': 16.6,\n",
       "     'hum': 30,\n",
       "     'voc': 3,\n",
       "     'co2': 60,\n",
       "     'level': 79}}}},\n",
       " {'_id': ObjectId('6102b5a0437563fd340238f9'),\n",
       "  'Mongo_Users': 'user_id(\"10001\")',\n",
       "  'Mongo_Devices': 'device_id(\"40002\")',\n",
       "  'Timestamp': 'ISODate(\"2021-07-01T00:00:00Z\")',\n",
       "  'datas': 'error'}]"
      ]
     },
     "execution_count": 23,
     "metadata": {},
     "output_type": "execute_result"
    }
   ],
   "source": [
    "# Update one Measures documents\n",
    "\n",
    "myquery = {'Mongo_Users': 'user_id(\"10001\")',\n",
    "           'Mongo_Devices': 'device_id(\"40001\")',\n",
    "           'Timestamp': 'ISODate(\"2021-07-01T01:00:00Z\")'}\n",
    "newvalues = { \"$set\": { \"datas.m1.s2\": {'pm25':42, 'tem': 16.5, 'hum':29.8, 'voc':9, 'co2':60, 'level': 79} } }\n",
    "\n",
    "Measures.update_one(myquery, newvalues)\n",
    "\n",
    "#print documents in the collection after the update:\n",
    "list(Measures.find())"
   ]
  },
  {
   "cell_type": "code",
   "execution_count": 24,
   "metadata": {},
   "outputs": [
    {
     "name": "stdout",
     "output_type": "stream",
     "text": [
      "1 documents updated.\n"
     ]
    }
   ],
   "source": [
    "#Update Many - This query will update the first records of 2 documents to the same\n",
    "\n",
    "myquery = {'Mongo_Users': 'user_id(\"10001\")',\n",
    "           'Mongo_Devices': 'device_id(\"40001\")'}\n",
    "newvalues = { \"$set\": { \"datas.m1.s1\": {'pm25':42, 'tem': 16.5, 'hum':29, 'voc':9, 'co2':60, 'level': 79} } }\n",
    "\n",
    "\n",
    "x = Measures.update_many(myquery, newvalues)\n",
    "\n",
    "print(x.modified_count, \"documents updated.\")\n"
   ]
  },
  {
   "cell_type": "markdown",
   "metadata": {},
   "source": [
    "## 2.3 Delete"
   ]
  },
  {
   "cell_type": "code",
   "execution_count": 25,
   "metadata": {},
   "outputs": [
    {
     "name": "stdout",
     "output_type": "stream",
     "text": [
      "1  documents deleted.\n"
     ]
    }
   ],
   "source": [
    "# Delete the error data in the Measure collection\n",
    "myquery = { \"datas\": \"error\"}\n",
    "x = Measures.delete_many(myquery)\n",
    "print(x.deleted_count, \" documents deleted.\")\n"
   ]
  },
  {
   "cell_type": "markdown",
   "metadata": {},
   "source": [
    "## 2.4 Index"
   ]
  },
  {
   "cell_type": "code",
   "execution_count": 26,
   "metadata": {
    "scrolled": false
   },
   "outputs": [
    {
     "data": {
      "text/plain": [
       "{'queryPlanner': {'plannerVersion': 1,\n",
       "  'namespace': 'IoTdb.Measures',\n",
       "  'indexFilterSet': False,\n",
       "  'parsedQuery': {'Mongo_Devices': {'$eq': 'device_id(\"40001\")'}},\n",
       "  'winningPlan': {'stage': 'COLLSCAN',\n",
       "   'filter': {'Mongo_Devices': {'$eq': 'device_id(\"40001\")'}},\n",
       "   'direction': 'forward'},\n",
       "  'rejectedPlans': []},\n",
       " 'executionStats': {'executionSuccess': True,\n",
       "  'nReturned': 2,\n",
       "  'executionTimeMillis': 0,\n",
       "  'totalKeysExamined': 0,\n",
       "  'totalDocsExamined': 2,\n",
       "  'executionStages': {'stage': 'COLLSCAN',\n",
       "   'filter': {'Mongo_Devices': {'$eq': 'device_id(\"40001\")'}},\n",
       "   'nReturned': 2,\n",
       "   'executionTimeMillisEstimate': 0,\n",
       "   'works': 4,\n",
       "   'advanced': 2,\n",
       "   'needTime': 1,\n",
       "   'needYield': 0,\n",
       "   'saveState': 0,\n",
       "   'restoreState': 0,\n",
       "   'isEOF': 1,\n",
       "   'direction': 'forward',\n",
       "   'docsExamined': 2},\n",
       "  'allPlansExecution': []},\n",
       " 'serverInfo': {'host': 'wvd1uebs1-1',\n",
       "  'port': 2570,\n",
       "  'version': '4.4.1',\n",
       "  'gitVersion': 'ad91a93a5a31e175f5cbf8c69561e788bbc55ce1'},\n",
       " 'ok': 1.0}"
      ]
     },
     "execution_count": 26,
     "metadata": {},
     "output_type": "execute_result"
    }
   ],
   "source": [
    "# Analyze query Performance\n",
    "IoTdb.Measures.find({'Mongo_Devices': 'device_id(\"40001\")'}).explain()\n",
    "# {'executionStages': 'stage': 'COLLSCAN'} means global index and not using the index we defined"
   ]
  },
  {
   "cell_type": "code",
   "execution_count": 27,
   "metadata": {},
   "outputs": [
    {
     "data": {
      "text/plain": [
       "'Mongo_Devices_1_Timestamp_-1'"
      ]
     },
     "execution_count": 27,
     "metadata": {},
     "output_type": "execute_result"
    }
   ],
   "source": [
    "# create an index\n",
    "Measures.create_index([(\"Mongo_Devices\", pymongo.ASCENDING), (\"Timestamp\", pymongo.DESCENDING)], background=True)"
   ]
  },
  {
   "cell_type": "code",
   "execution_count": 28,
   "metadata": {},
   "outputs": [
    {
     "data": {
      "text/plain": [
       "{'queryPlanner': {'plannerVersion': 1,\n",
       "  'namespace': 'IoTdb.Measures',\n",
       "  'indexFilterSet': False,\n",
       "  'parsedQuery': {'Mongo_Devices': {'$eq': 'device_id(\"40001\")'}},\n",
       "  'winningPlan': {'stage': 'FETCH',\n",
       "   'inputStage': {'stage': 'IXSCAN',\n",
       "    'keyPattern': {'Mongo_Devices': 1, 'Timestamp': -1},\n",
       "    'indexName': 'Mongo_Devices_1_Timestamp_-1',\n",
       "    'isMultiKey': False,\n",
       "    'multiKeyPaths': {'Mongo_Devices': [], 'Timestamp': []},\n",
       "    'isUnique': False,\n",
       "    'isSparse': False,\n",
       "    'isPartial': False,\n",
       "    'indexVersion': 2,\n",
       "    'direction': 'forward',\n",
       "    'indexBounds': {'Mongo_Devices': ['[\"device_id(\"40001\")\", \"device_id(\"40001\")\"]'],\n",
       "     'Timestamp': ['[MaxKey, MinKey]']}}},\n",
       "  'rejectedPlans': []},\n",
       " 'executionStats': {'executionSuccess': True,\n",
       "  'nReturned': 2,\n",
       "  'executionTimeMillis': 34,\n",
       "  'totalKeysExamined': 2,\n",
       "  'totalDocsExamined': 2,\n",
       "  'executionStages': {'stage': 'FETCH',\n",
       "   'nReturned': 2,\n",
       "   'executionTimeMillisEstimate': 33,\n",
       "   'works': 3,\n",
       "   'advanced': 2,\n",
       "   'needTime': 0,\n",
       "   'needYield': 0,\n",
       "   'saveState': 1,\n",
       "   'restoreState': 1,\n",
       "   'isEOF': 1,\n",
       "   'docsExamined': 2,\n",
       "   'alreadyHasObj': 0,\n",
       "   'inputStage': {'stage': 'IXSCAN',\n",
       "    'nReturned': 2,\n",
       "    'executionTimeMillisEstimate': 33,\n",
       "    'works': 3,\n",
       "    'advanced': 2,\n",
       "    'needTime': 0,\n",
       "    'needYield': 0,\n",
       "    'saveState': 1,\n",
       "    'restoreState': 1,\n",
       "    'isEOF': 1,\n",
       "    'keyPattern': {'Mongo_Devices': 1, 'Timestamp': -1},\n",
       "    'indexName': 'Mongo_Devices_1_Timestamp_-1',\n",
       "    'isMultiKey': False,\n",
       "    'multiKeyPaths': {'Mongo_Devices': [], 'Timestamp': []},\n",
       "    'isUnique': False,\n",
       "    'isSparse': False,\n",
       "    'isPartial': False,\n",
       "    'indexVersion': 2,\n",
       "    'direction': 'forward',\n",
       "    'indexBounds': {'Mongo_Devices': ['[\"device_id(\"40001\")\", \"device_id(\"40001\")\"]'],\n",
       "     'Timestamp': ['[MaxKey, MinKey]']},\n",
       "    'keysExamined': 2,\n",
       "    'seeks': 1,\n",
       "    'dupsTested': 0,\n",
       "    'dupsDropped': 0}},\n",
       "  'allPlansExecution': []},\n",
       " 'serverInfo': {'host': 'wvd1uebs1-1',\n",
       "  'port': 2570,\n",
       "  'version': '4.4.1',\n",
       "  'gitVersion': 'ad91a93a5a31e175f5cbf8c69561e788bbc55ce1'},\n",
       " 'ok': 1.0}"
      ]
     },
     "execution_count": 28,
     "metadata": {},
     "output_type": "execute_result"
    }
   ],
   "source": [
    "# Analyze query Performance again\n",
    "IoTdb.Measures.find({'Mongo_Devices': 'device_id(\"40001\")'}).explain()\n",
    "# 'FETCH' means the query use the index we defined, So, the Query efficiency is improved"
   ]
  },
  {
   "cell_type": "code",
   "execution_count": 29,
   "metadata": {},
   "outputs": [
    {
     "name": "stdout",
     "output_type": "stream",
     "text": [
      "SON([('v', 2), ('key', SON([('_id', 1)])), ('name', '_id_')])\n",
      "SON([('v', 2), ('key', SON([('Mongo_Devices', 1), ('Timestamp', -1)])), ('name', 'Mongo_Devices_1_Timestamp_-1'), ('background', True)])\n"
     ]
    }
   ],
   "source": [
    "# query exist index\n",
    "\n",
    "indexlist=Measures.list_indexes()\n",
    "for index in indexlist:\n",
    "    print(index)\n",
    "# '_id' is indexed by default, '1' means ASCENDING "
   ]
  },
  {
   "cell_type": "markdown",
   "metadata": {},
   "source": [
    "## 2.5 Retrieve"
   ]
  },
  {
   "cell_type": "code",
   "execution_count": 30,
   "metadata": {},
   "outputs": [
    {
     "name": "stdout",
     "output_type": "stream",
     "text": [
      "{'_id': ObjectId('6102b5a0437563fd340238f8'), 'datas': {'m1': {'s1': {'pm25': 42, 'tem': 16.5, 'hum': 29, 'voc': 9, 'co2': 60, 'level': 79}, 's2': {'pm25': 42, 'tem': 16.5, 'hum': 29.8, 'voc': 9, 'co2': 60, 'level': 79}, 's300': {'pm25': 43, 'tem': 16.6, 'hum': 29.5, 'voc': 4, 'co2': 58, 'level': 79}}, 'm2': {'s1': {'pm25': 43.5, 'tem': 16.5, 'hum': 29.9, 'voc': 8, 'co2': 60, 'level': 79}, 's2': {'pm25': 43, 'tem': 16.5, 'hum': 30, 'voc': 9, 'co2': 60, 'level': 79}, 's300': {'pm25': 42.5, 'tem': 16.8, 'hum': 29.6, 'voc': 8, 'co2': 62, 'level': 79}}, 'm60': {'s1': {'pm25': 42.5, 'tem': 16.6, 'hum': 29.3, 'voc': 3, 'co2': 59, 'level': 79}, 's2': {'pm25': 44, 'tem': 16.7, 'hum': 29.9, 'voc': 3, 'co2': 60, 'level': 79}, 's300': {'pm25': 42, 'tem': 16.6, 'hum': 30, 'voc': 3, 'co2': 60, 'level': 79}}}}\n"
     ]
    }
   ],
   "source": [
    "# Query the collected data from device-40001 at 2021-07-01T01:00:00Z\n",
    "myresult=IoTdb.Measures.find({'Mongo_Devices': 'device_id(\"40001\")',\n",
    "                              'Timestamp': 'ISODate(\"2021-07-01T01:00:00Z\")'},\n",
    "                             {'Mongo_Users':0,'Mongo_Devices':0,'Timestamp':0})\n",
    "for x in myresult:\n",
    "    print(x)"
   ]
  },
  {
   "cell_type": "code",
   "execution_count": 31,
   "metadata": {},
   "outputs": [
    {
     "name": "stdout",
     "output_type": "stream",
     "text": [
      "{'_id': ObjectId('6102b5a0437563fd340238f7'), 'Mongo_Devices': 'device_id(\"40001\")'}\n",
      "{'_id': ObjectId('6102b5a0437563fd340238f8'), 'Mongo_Devices': 'device_id(\"40001\")'}\n"
     ]
    }
   ],
   "source": [
    "myresult=IoTdb.Measures.find({},{'Mongo_Devices': 'device_id(\"40001\")'})\n",
    "for x in myresult:\n",
    "    print(x)"
   ]
  },
  {
   "cell_type": "code",
   "execution_count": 32,
   "metadata": {},
   "outputs": [
    {
     "name": "stdout",
     "output_type": "stream",
     "text": [
      "{'_id': ObjectId('6102b5a0437563fd340238f5'), 'user_id': 10002, 'Mongo_Devices': [{'device_id': 40005}, {'device_id': 40006}]}\n"
     ]
    }
   ],
   "source": [
    "# Query the information of user-10002\n",
    "myresult=IoTdb.Mongo_Users.find({'user_id':10002})\n",
    "for x in myresult:\n",
    "    print(x)"
   ]
  },
  {
   "cell_type": "code",
   "execution_count": 33,
   "metadata": {},
   "outputs": [
    {
     "name": "stderr",
     "output_type": "stream",
     "text": [
      "E:\\Anaconda\\lib\\site-packages\\ipykernel_launcher.py:2: DeprecationWarning: count is deprecated. Use estimated_document_count or count_documents instead. Please note that $where must be replaced by $expr, $near must be replaced by $geoWithin with $center, and $nearSphere must be replaced by $geoWithin with $centerSphere\n",
      "  \n"
     ]
    },
    {
     "data": {
      "text/plain": [
       "2"
      ]
     },
     "execution_count": 33,
     "metadata": {},
     "output_type": "execute_result"
    }
   ],
   "source": [
    "# statistical query count how many records from user 10001\n",
    "IoTdb.Measures.count({'Mongo_Users': 'user_id(\"10001\")'})"
   ]
  },
  {
   "cell_type": "code",
   "execution_count": 34,
   "metadata": {},
   "outputs": [
    {
     "name": "stdout",
     "output_type": "stream",
     "text": [
      "{'user_id': 10001, 'device_count': 4}\n",
      "{'user_id': 10002, 'device_count': 2}\n",
      "{'user_id': 10003, 'device_count': 1}\n"
     ]
    }
   ],
   "source": [
    "# statistical query how many device each user has\n",
    "myresult = IoTdb.Mongo_Users.aggregate([{ '$project': {'user_id':1,'_id':0,'device_count': {'$size': \"$Mongo_Devices\"}}}])\n",
    "for x in myresult:\n",
    "    print(x)"
   ]
  },
  {
   "cell_type": "code",
   "execution_count": 35,
   "metadata": {},
   "outputs": [
    {
     "name": "stdout",
     "output_type": "stream",
     "text": [
      "{'datas': {'m1': {'s1': {'pm25': 42, 'tem': 16.5, 'hum': 29, 'voc': 9, 'co2': 60, 'level': 79}, 's2': {'pm25': 42, 'tem': 16.5, 'hum': 29.8, 'voc': 9, 'co2': 60, 'level': 79}, 's300': {'pm25': 43, 'tem': 16.6, 'hum': 29.5, 'voc': 4, 'co2': 58, 'level': 79}}, 'm2': {'s1': {'pm25': 43.5, 'tem': 16.5, 'hum': 29.9, 'voc': 8, 'co2': 60, 'level': 79}, 's2': {'pm25': 43, 'tem': 16.5, 'hum': 30, 'voc': 9, 'co2': 60, 'level': 79}, 's300': {'pm25': 42.5, 'tem': 16.8, 'hum': 29.6, 'voc': 8, 'co2': 62, 'level': 79}}, 'm60': {'s1': {'pm25': 42.5, 'tem': 16.6, 'hum': 29.3, 'voc': 3, 'co2': 59, 'level': 79}, 's2': {'pm25': 44, 'tem': 16.7, 'hum': 29.9, 'voc': 3, 'co2': 60, 'level': 79}, 's300': {'pm25': 42, 'tem': 16.6, 'hum': 30, 'voc': 3, 'co2': 60, 'level': 79}}}}\n",
      "<class 'pymongo.command_cursor.CommandCursor'>\n"
     ]
    }
   ],
   "source": [
    "# query the Embedded document\n",
    "myresult=IoTdb.Measures.aggregate(\n",
    "    [{\"$match\": {'Mongo_Devices': 'device_id(\"40001\")','Timestamp': 'ISODate(\"2021-07-01T01:00:00Z\")'}},\n",
    "     {\"$project\": {\"datas\": '$datas' ,\"_id\": 0}}\n",
    "    ])\n",
    "for x in myresult:\n",
    "    print(x)\n",
    "print(type(myresult))"
   ]
  },
  {
   "cell_type": "code",
   "execution_count": null,
   "metadata": {},
   "outputs": [],
   "source": []
  },
  {
   "cell_type": "markdown",
   "metadata": {},
   "source": [
    "## 3. Combine Sqlite and MongoDB"
   ]
  },
  {
   "cell_type": "code",
   "execution_count": 36,
   "metadata": {},
   "outputs": [],
   "source": [
    "import pandas as pd\n",
    "import seaborn as sns"
   ]
  },
  {
   "cell_type": "markdown",
   "metadata": {},
   "source": [
    "### 3.1 Manage the indoor environment quality of the 20001 address of 10001 user"
   ]
  },
  {
   "cell_type": "code",
   "execution_count": 37,
   "metadata": {},
   "outputs": [
    {
     "name": "stdout",
     "output_type": "stream",
     "text": [
      "[(40001,)]\n"
     ]
    }
   ],
   "source": [
    "# find the Purifier device_id of address 20001 in Sqlite\n",
    "# Prepare the query String\n",
    "qry=\"SELECT device_id FROM Device where address_id=20001 and device_type='Purifier';\"\n",
    "\n",
    "# Execute query on SQLite\n",
    "cur.execute(qry)\n",
    "\n",
    "# Fetch and display one row\n",
    "row=cur.fetchall()\n",
    "\n",
    "print (row)"
   ]
  },
  {
   "cell_type": "code",
   "execution_count": 38,
   "metadata": {},
   "outputs": [],
   "source": [
    "# Query the device_id 40001(Purifier)  data \n",
    "# from 2021-07-01T00:00:00Z to 2021-07-01T01:00:00Z in Mongodb\n",
    "myresult=IoTdb.Measures.aggregate(\n",
    "    [{\"$match\": {'Mongo_Devices': 'device_id(\"40001\")',}},\n",
    "     {\"$project\": {\"datas\": '$datas',\"_id\": 0,'Timestamp':1}} \n",
    "    ])"
   ]
  },
  {
   "cell_type": "code",
   "execution_count": 39,
   "metadata": {},
   "outputs": [
    {
     "data": {
      "text/plain": [
       "{'pm25': 45, 'tem': 16.1, 'hum': 29.5, 'voc': 2, 'co2': 60, 'level': 79}"
      ]
     },
     "execution_count": 39,
     "metadata": {},
     "output_type": "execute_result"
    }
   ],
   "source": [
    "# Converting cursor to the list of dictionaries\n",
    "list_cur = list(myresult)\n",
    "# Query the latest environment quality data\n",
    "latest_data= list_cur[1]['datas']['m60']['s300']\n",
    "latest_data\n"
   ]
  },
  {
   "cell_type": "code",
   "execution_count": 40,
   "metadata": {},
   "outputs": [],
   "source": [
    "# Design a program to react on different environmental quality data\n",
    "def ReactProgram(data):\n",
    "    if data['pm25']>37.5:\n",
    "        print('Enable the PM2.5 filter function')\n",
    "    else:\n",
    "        print('Indoor PM2.5 concentration is normal')\n",
    "    if data['tem']<23:\n",
    "        print('Enable the heating function')\n",
    "    elif data['tem']<28:\n",
    "        print('Indoor temperature is comfortable')\n",
    "    else:\n",
    "        print('Enable the cooling  function')        \n",
    "    if data['hum']<30:\n",
    "        print('Enable the humidifier function')\n",
    "    elif data['hum']<60:\n",
    "        print('Indoor Humidity is normal')\n",
    "    else:\n",
    "        print('Enable the dehumidification function')\n",
    "    if data['co2']>80:\n",
    "        print('Remind users of ventilation')\n",
    "    else:\n",
    "        print('Indoor co2 concentration is normal')\n",
    "    return"
   ]
  },
  {
   "cell_type": "code",
   "execution_count": 41,
   "metadata": {},
   "outputs": [
    {
     "name": "stdout",
     "output_type": "stream",
     "text": [
      "Enable the PM2.5 filter function\n",
      "Enable the heating function\n",
      "Enable the humidifier function\n",
      "Indoor co2 concentration is normal\n"
     ]
    }
   ],
   "source": [
    "# Apply the ReactProgram\n",
    "ReactProgram(latest_data)"
   ]
  },
  {
   "cell_type": "markdown",
   "metadata": {},
   "source": [
    "### 3.2 Generate environmental quality reports for users"
   ]
  },
  {
   "cell_type": "markdown",
   "metadata": {},
   "source": [
    "### 3.2.1 Draw a line chart of air environment changes by the data of Purifier"
   ]
  },
  {
   "cell_type": "code",
   "execution_count": 42,
   "metadata": {
    "scrolled": true
   },
   "outputs": [
    {
     "data": {
      "text/html": [
       "<div>\n",
       "<style scoped>\n",
       "    .dataframe tbody tr th:only-of-type {\n",
       "        vertical-align: middle;\n",
       "    }\n",
       "\n",
       "    .dataframe tbody tr th {\n",
       "        vertical-align: top;\n",
       "    }\n",
       "\n",
       "    .dataframe thead th {\n",
       "        text-align: right;\n",
       "    }\n",
       "</style>\n",
       "<table border=\"1\" class=\"dataframe\">\n",
       "  <thead>\n",
       "    <tr style=\"text-align: right;\">\n",
       "      <th></th>\n",
       "      <th>1</th>\n",
       "      <th>2</th>\n",
       "      <th>3</th>\n",
       "      <th>4</th>\n",
       "      <th>5</th>\n",
       "      <th>6</th>\n",
       "      <th>7</th>\n",
       "      <th>8</th>\n",
       "      <th>9</th>\n",
       "      <th>10</th>\n",
       "      <th>11</th>\n",
       "      <th>12</th>\n",
       "      <th>13</th>\n",
       "      <th>14</th>\n",
       "      <th>15</th>\n",
       "      <th>16</th>\n",
       "      <th>17</th>\n",
       "      <th>18</th>\n",
       "    </tr>\n",
       "  </thead>\n",
       "  <tbody>\n",
       "    <tr>\n",
       "      <td>pm25</td>\n",
       "      <td>42.0</td>\n",
       "      <td>42.0</td>\n",
       "      <td>43.0</td>\n",
       "      <td>43.5</td>\n",
       "      <td>43.0</td>\n",
       "      <td>42.5</td>\n",
       "      <td>42.5</td>\n",
       "      <td>44.0</td>\n",
       "      <td>42.0</td>\n",
       "      <td>42.0</td>\n",
       "      <td>43.0</td>\n",
       "      <td>44.0</td>\n",
       "      <td>43.0</td>\n",
       "      <td>41.0</td>\n",
       "      <td>42.0</td>\n",
       "      <td>44.0</td>\n",
       "      <td>46.0</td>\n",
       "      <td>45.0</td>\n",
       "    </tr>\n",
       "    <tr>\n",
       "      <td>tem</td>\n",
       "      <td>16.5</td>\n",
       "      <td>16.5</td>\n",
       "      <td>16.6</td>\n",
       "      <td>16.5</td>\n",
       "      <td>16.5</td>\n",
       "      <td>16.8</td>\n",
       "      <td>16.6</td>\n",
       "      <td>16.7</td>\n",
       "      <td>16.6</td>\n",
       "      <td>16.5</td>\n",
       "      <td>16.4</td>\n",
       "      <td>16.8</td>\n",
       "      <td>16.7</td>\n",
       "      <td>16.5</td>\n",
       "      <td>16.4</td>\n",
       "      <td>16.3</td>\n",
       "      <td>16.2</td>\n",
       "      <td>16.1</td>\n",
       "    </tr>\n",
       "    <tr>\n",
       "      <td>hum</td>\n",
       "      <td>29.0</td>\n",
       "      <td>29.8</td>\n",
       "      <td>29.5</td>\n",
       "      <td>29.9</td>\n",
       "      <td>30.0</td>\n",
       "      <td>29.6</td>\n",
       "      <td>29.3</td>\n",
       "      <td>29.9</td>\n",
       "      <td>30.0</td>\n",
       "      <td>29.0</td>\n",
       "      <td>28.0</td>\n",
       "      <td>29.0</td>\n",
       "      <td>29.6</td>\n",
       "      <td>29.5</td>\n",
       "      <td>29.4</td>\n",
       "      <td>29.3</td>\n",
       "      <td>29.8</td>\n",
       "      <td>29.5</td>\n",
       "    </tr>\n",
       "    <tr>\n",
       "      <td>voc</td>\n",
       "      <td>9.0</td>\n",
       "      <td>9.0</td>\n",
       "      <td>4.0</td>\n",
       "      <td>8.0</td>\n",
       "      <td>9.0</td>\n",
       "      <td>8.0</td>\n",
       "      <td>3.0</td>\n",
       "      <td>3.0</td>\n",
       "      <td>3.0</td>\n",
       "      <td>9.0</td>\n",
       "      <td>9.0</td>\n",
       "      <td>9.0</td>\n",
       "      <td>10.0</td>\n",
       "      <td>2.0</td>\n",
       "      <td>2.0</td>\n",
       "      <td>2.0</td>\n",
       "      <td>2.0</td>\n",
       "      <td>2.0</td>\n",
       "    </tr>\n",
       "    <tr>\n",
       "      <td>co2</td>\n",
       "      <td>60.0</td>\n",
       "      <td>60.0</td>\n",
       "      <td>58.0</td>\n",
       "      <td>60.0</td>\n",
       "      <td>60.0</td>\n",
       "      <td>62.0</td>\n",
       "      <td>59.0</td>\n",
       "      <td>60.0</td>\n",
       "      <td>60.0</td>\n",
       "      <td>60.0</td>\n",
       "      <td>62.0</td>\n",
       "      <td>63.0</td>\n",
       "      <td>65.0</td>\n",
       "      <td>64.0</td>\n",
       "      <td>62.0</td>\n",
       "      <td>65.0</td>\n",
       "      <td>63.0</td>\n",
       "      <td>60.0</td>\n",
       "    </tr>\n",
       "    <tr>\n",
       "      <td>level</td>\n",
       "      <td>79.0</td>\n",
       "      <td>79.0</td>\n",
       "      <td>79.0</td>\n",
       "      <td>79.0</td>\n",
       "      <td>79.0</td>\n",
       "      <td>79.0</td>\n",
       "      <td>79.0</td>\n",
       "      <td>79.0</td>\n",
       "      <td>79.0</td>\n",
       "      <td>79.0</td>\n",
       "      <td>79.0</td>\n",
       "      <td>80.0</td>\n",
       "      <td>79.0</td>\n",
       "      <td>79.0</td>\n",
       "      <td>79.0</td>\n",
       "      <td>79.0</td>\n",
       "      <td>79.0</td>\n",
       "      <td>79.0</td>\n",
       "    </tr>\n",
       "  </tbody>\n",
       "</table>\n",
       "</div>"
      ],
      "text/plain": [
       "          1     2     3     4     5     6     7     8     9    10    11    12  \\\n",
       "pm25   42.0  42.0  43.0  43.5  43.0  42.5  42.5  44.0  42.0  42.0  43.0  44.0   \n",
       "tem    16.5  16.5  16.6  16.5  16.5  16.8  16.6  16.7  16.6  16.5  16.4  16.8   \n",
       "hum    29.0  29.8  29.5  29.9  30.0  29.6  29.3  29.9  30.0  29.0  28.0  29.0   \n",
       "voc     9.0   9.0   4.0   8.0   9.0   8.0   3.0   3.0   3.0   9.0   9.0   9.0   \n",
       "co2    60.0  60.0  58.0  60.0  60.0  62.0  59.0  60.0  60.0  60.0  62.0  63.0   \n",
       "level  79.0  79.0  79.0  79.0  79.0  79.0  79.0  79.0  79.0  79.0  79.0  80.0   \n",
       "\n",
       "         13    14    15    16    17    18  \n",
       "pm25   43.0  41.0  42.0  44.0  46.0  45.0  \n",
       "tem    16.7  16.5  16.4  16.3  16.2  16.1  \n",
       "hum    29.6  29.5  29.4  29.3  29.8  29.5  \n",
       "voc    10.0   2.0   2.0   2.0   2.0   2.0  \n",
       "co2    65.0  64.0  62.0  65.0  63.0  60.0  \n",
       "level  79.0  79.0  79.0  79.0  79.0  79.0  "
      ]
     },
     "execution_count": 42,
     "metadata": {},
     "output_type": "execute_result"
    }
   ],
   "source": [
    "# Convert Query data to Dataframe and analyze the Dataframe\n",
    "dict_cur1 = list_cur[0]['datas']\n",
    "dict_cur2 = list_cur[1]['datas']\n",
    "a = [] \n",
    "for t in dict_cur1: \n",
    "    a.append(pd.DataFrame.from_dict(dict_cur1[t]))\n",
    "for t in dict_cur2: \n",
    "    a.append(pd.DataFrame.from_dict(dict_cur2[t])) \n",
    "\n",
    "result1 = pd.concat(a, axis=1)\n",
    "result1.columns = range(1, 19)\n",
    "result1"
   ]
  },
  {
   "cell_type": "code",
   "execution_count": 43,
   "metadata": {
    "scrolled": false
   },
   "outputs": [
    {
     "data": {
      "text/html": [
       "<div>\n",
       "<style scoped>\n",
       "    .dataframe tbody tr th:only-of-type {\n",
       "        vertical-align: middle;\n",
       "    }\n",
       "\n",
       "    .dataframe tbody tr th {\n",
       "        vertical-align: top;\n",
       "    }\n",
       "\n",
       "    .dataframe thead th {\n",
       "        text-align: right;\n",
       "    }\n",
       "</style>\n",
       "<table border=\"1\" class=\"dataframe\">\n",
       "  <thead>\n",
       "    <tr style=\"text-align: right;\">\n",
       "      <th></th>\n",
       "      <th>pm25</th>\n",
       "      <th>tem</th>\n",
       "      <th>hum</th>\n",
       "      <th>voc</th>\n",
       "      <th>co2</th>\n",
       "      <th>level</th>\n",
       "    </tr>\n",
       "  </thead>\n",
       "  <tbody>\n",
       "    <tr>\n",
       "      <td>1</td>\n",
       "      <td>42.0</td>\n",
       "      <td>16.5</td>\n",
       "      <td>29.0</td>\n",
       "      <td>9.0</td>\n",
       "      <td>60.0</td>\n",
       "      <td>79.0</td>\n",
       "    </tr>\n",
       "    <tr>\n",
       "      <td>2</td>\n",
       "      <td>42.0</td>\n",
       "      <td>16.5</td>\n",
       "      <td>29.8</td>\n",
       "      <td>9.0</td>\n",
       "      <td>60.0</td>\n",
       "      <td>79.0</td>\n",
       "    </tr>\n",
       "    <tr>\n",
       "      <td>3</td>\n",
       "      <td>43.0</td>\n",
       "      <td>16.6</td>\n",
       "      <td>29.5</td>\n",
       "      <td>4.0</td>\n",
       "      <td>58.0</td>\n",
       "      <td>79.0</td>\n",
       "    </tr>\n",
       "    <tr>\n",
       "      <td>4</td>\n",
       "      <td>43.5</td>\n",
       "      <td>16.5</td>\n",
       "      <td>29.9</td>\n",
       "      <td>8.0</td>\n",
       "      <td>60.0</td>\n",
       "      <td>79.0</td>\n",
       "    </tr>\n",
       "    <tr>\n",
       "      <td>5</td>\n",
       "      <td>43.0</td>\n",
       "      <td>16.5</td>\n",
       "      <td>30.0</td>\n",
       "      <td>9.0</td>\n",
       "      <td>60.0</td>\n",
       "      <td>79.0</td>\n",
       "    </tr>\n",
       "    <tr>\n",
       "      <td>6</td>\n",
       "      <td>42.5</td>\n",
       "      <td>16.8</td>\n",
       "      <td>29.6</td>\n",
       "      <td>8.0</td>\n",
       "      <td>62.0</td>\n",
       "      <td>79.0</td>\n",
       "    </tr>\n",
       "    <tr>\n",
       "      <td>7</td>\n",
       "      <td>42.5</td>\n",
       "      <td>16.6</td>\n",
       "      <td>29.3</td>\n",
       "      <td>3.0</td>\n",
       "      <td>59.0</td>\n",
       "      <td>79.0</td>\n",
       "    </tr>\n",
       "    <tr>\n",
       "      <td>8</td>\n",
       "      <td>44.0</td>\n",
       "      <td>16.7</td>\n",
       "      <td>29.9</td>\n",
       "      <td>3.0</td>\n",
       "      <td>60.0</td>\n",
       "      <td>79.0</td>\n",
       "    </tr>\n",
       "    <tr>\n",
       "      <td>9</td>\n",
       "      <td>42.0</td>\n",
       "      <td>16.6</td>\n",
       "      <td>30.0</td>\n",
       "      <td>3.0</td>\n",
       "      <td>60.0</td>\n",
       "      <td>79.0</td>\n",
       "    </tr>\n",
       "    <tr>\n",
       "      <td>10</td>\n",
       "      <td>42.0</td>\n",
       "      <td>16.5</td>\n",
       "      <td>29.0</td>\n",
       "      <td>9.0</td>\n",
       "      <td>60.0</td>\n",
       "      <td>79.0</td>\n",
       "    </tr>\n",
       "    <tr>\n",
       "      <td>11</td>\n",
       "      <td>43.0</td>\n",
       "      <td>16.4</td>\n",
       "      <td>28.0</td>\n",
       "      <td>9.0</td>\n",
       "      <td>62.0</td>\n",
       "      <td>79.0</td>\n",
       "    </tr>\n",
       "    <tr>\n",
       "      <td>12</td>\n",
       "      <td>44.0</td>\n",
       "      <td>16.8</td>\n",
       "      <td>29.0</td>\n",
       "      <td>9.0</td>\n",
       "      <td>63.0</td>\n",
       "      <td>80.0</td>\n",
       "    </tr>\n",
       "    <tr>\n",
       "      <td>13</td>\n",
       "      <td>43.0</td>\n",
       "      <td>16.7</td>\n",
       "      <td>29.6</td>\n",
       "      <td>10.0</td>\n",
       "      <td>65.0</td>\n",
       "      <td>79.0</td>\n",
       "    </tr>\n",
       "    <tr>\n",
       "      <td>14</td>\n",
       "      <td>41.0</td>\n",
       "      <td>16.5</td>\n",
       "      <td>29.5</td>\n",
       "      <td>2.0</td>\n",
       "      <td>64.0</td>\n",
       "      <td>79.0</td>\n",
       "    </tr>\n",
       "    <tr>\n",
       "      <td>15</td>\n",
       "      <td>42.0</td>\n",
       "      <td>16.4</td>\n",
       "      <td>29.4</td>\n",
       "      <td>2.0</td>\n",
       "      <td>62.0</td>\n",
       "      <td>79.0</td>\n",
       "    </tr>\n",
       "    <tr>\n",
       "      <td>16</td>\n",
       "      <td>44.0</td>\n",
       "      <td>16.3</td>\n",
       "      <td>29.3</td>\n",
       "      <td>2.0</td>\n",
       "      <td>65.0</td>\n",
       "      <td>79.0</td>\n",
       "    </tr>\n",
       "    <tr>\n",
       "      <td>17</td>\n",
       "      <td>46.0</td>\n",
       "      <td>16.2</td>\n",
       "      <td>29.8</td>\n",
       "      <td>2.0</td>\n",
       "      <td>63.0</td>\n",
       "      <td>79.0</td>\n",
       "    </tr>\n",
       "    <tr>\n",
       "      <td>18</td>\n",
       "      <td>45.0</td>\n",
       "      <td>16.1</td>\n",
       "      <td>29.5</td>\n",
       "      <td>2.0</td>\n",
       "      <td>60.0</td>\n",
       "      <td>79.0</td>\n",
       "    </tr>\n",
       "  </tbody>\n",
       "</table>\n",
       "</div>"
      ],
      "text/plain": [
       "    pm25   tem   hum   voc   co2  level\n",
       "1   42.0  16.5  29.0   9.0  60.0   79.0\n",
       "2   42.0  16.5  29.8   9.0  60.0   79.0\n",
       "3   43.0  16.6  29.5   4.0  58.0   79.0\n",
       "4   43.5  16.5  29.9   8.0  60.0   79.0\n",
       "5   43.0  16.5  30.0   9.0  60.0   79.0\n",
       "6   42.5  16.8  29.6   8.0  62.0   79.0\n",
       "7   42.5  16.6  29.3   3.0  59.0   79.0\n",
       "8   44.0  16.7  29.9   3.0  60.0   79.0\n",
       "9   42.0  16.6  30.0   3.0  60.0   79.0\n",
       "10  42.0  16.5  29.0   9.0  60.0   79.0\n",
       "11  43.0  16.4  28.0   9.0  62.0   79.0\n",
       "12  44.0  16.8  29.0   9.0  63.0   80.0\n",
       "13  43.0  16.7  29.6  10.0  65.0   79.0\n",
       "14  41.0  16.5  29.5   2.0  64.0   79.0\n",
       "15  42.0  16.4  29.4   2.0  62.0   79.0\n",
       "16  44.0  16.3  29.3   2.0  65.0   79.0\n",
       "17  46.0  16.2  29.8   2.0  63.0   79.0\n",
       "18  45.0  16.1  29.5   2.0  60.0   79.0"
      ]
     },
     "execution_count": 43,
     "metadata": {},
     "output_type": "execute_result"
    }
   ],
   "source": [
    "result2 = result1.T\n",
    "result2"
   ]
  },
  {
   "cell_type": "code",
   "execution_count": 44,
   "metadata": {},
   "outputs": [
    {
     "data": {
      "text/plain": [
       "<matplotlib.axes._subplots.AxesSubplot at 0x2c9cba64550>"
      ]
     },
     "execution_count": 44,
     "metadata": {},
     "output_type": "execute_result"
    },
    {
     "data": {
      "image/png": "[encoded data removed]",
      "text/plain": [
       "<Figure size 576x432 with 1 Axes>"
      ]
     },
     "metadata": {},
     "output_type": "display_data"
    }
   ],
   "source": [
    "#  Draw a line chart of air environment changes by the data of Purifier\n",
    "sns.set_style(style=\"whitegrid\")\n",
    "sns.set(rc={\"figure.figsize\":(8, 6)})\n",
    "sns.lineplot(data=result2, palette=\"tab10\", linewidth=2.5)\n"
   ]
  },
  {
   "cell_type": "markdown",
   "metadata": {},
   "source": [
    "### 3.2.2 Find the detial information and average air quality (from 2021-07-01 00:00 to 01:00)  of 40001 device"
   ]
  },
  {
   "cell_type": "code",
   "execution_count": 45,
   "metadata": {},
   "outputs": [
    {
     "name": "stdout",
     "output_type": "stream",
     "text": [
      "[(10001, 20001, 'Exeter', 40001)]\n"
     ]
    }
   ],
   "source": [
    "# find the address information of 40001 device\n",
    "# Prepare the query String\n",
    "qry='''SELECT Address.user_id, Address.address_id, address_city, device_id \n",
    "       FROM Address JOIN Device on Address.address_id = Device.address_id \n",
    "       where device_id=40001;'''\n",
    "\n",
    "# Execute query on SQLite\n",
    "cur.execute(qry)\n",
    "\n",
    "# Fetch and display one row\n",
    "row=cur.fetchall()\n",
    "\n",
    "print (row)"
   ]
  },
  {
   "cell_type": "code",
   "execution_count": 46,
   "metadata": {
    "scrolled": true
   },
   "outputs": [
    {
     "data": {
      "text/html": [
       "<div>\n",
       "<style scoped>\n",
       "    .dataframe tbody tr th:only-of-type {\n",
       "        vertical-align: middle;\n",
       "    }\n",
       "\n",
       "    .dataframe tbody tr th {\n",
       "        vertical-align: top;\n",
       "    }\n",
       "\n",
       "    .dataframe thead th {\n",
       "        text-align: right;\n",
       "    }\n",
       "</style>\n",
       "<table border=\"1\" class=\"dataframe\">\n",
       "  <thead>\n",
       "    <tr style=\"text-align: right;\">\n",
       "      <th></th>\n",
       "      <th>user_id</th>\n",
       "      <th>address_id</th>\n",
       "      <th>address_city</th>\n",
       "      <th>device_id</th>\n",
       "    </tr>\n",
       "  </thead>\n",
       "  <tbody>\n",
       "    <tr>\n",
       "      <td>0</td>\n",
       "      <td>10001</td>\n",
       "      <td>20001</td>\n",
       "      <td>Exeter</td>\n",
       "      <td>40001</td>\n",
       "    </tr>\n",
       "  </tbody>\n",
       "</table>\n",
       "</div>"
      ],
      "text/plain": [
       "   user_id  address_id address_city  device_id\n",
       "0    10001       20001       Exeter      40001"
      ]
     },
     "execution_count": 46,
     "metadata": {},
     "output_type": "execute_result"
    }
   ],
   "source": [
    "data = pd.DataFrame(row)\n",
    "data.columns = ['user_id', 'address_id', 'address_city', 'device_id']\n",
    "data"
   ]
  },
  {
   "cell_type": "code",
   "execution_count": 47,
   "metadata": {
    "scrolled": false
   },
   "outputs": [
    {
     "data": {
      "text/html": [
       "<div>\n",
       "<style scoped>\n",
       "    .dataframe tbody tr th:only-of-type {\n",
       "        vertical-align: middle;\n",
       "    }\n",
       "\n",
       "    .dataframe tbody tr th {\n",
       "        vertical-align: top;\n",
       "    }\n",
       "\n",
       "    .dataframe thead th {\n",
       "        text-align: right;\n",
       "    }\n",
       "</style>\n",
       "<table border=\"1\" class=\"dataframe\">\n",
       "  <thead>\n",
       "    <tr style=\"text-align: right;\">\n",
       "      <th></th>\n",
       "      <th>user_id</th>\n",
       "      <th>address_id</th>\n",
       "      <th>address_city</th>\n",
       "      <th>device_id</th>\n",
       "      <th>avg_pm25</th>\n",
       "      <th>avg_hum</th>\n",
       "      <th>avg_voc</th>\n",
       "      <th>avg_co2</th>\n",
       "      <th>avg_level</th>\n",
       "    </tr>\n",
       "  </thead>\n",
       "  <tbody>\n",
       "    <tr>\n",
       "      <td>0</td>\n",
       "      <td>10001</td>\n",
       "      <td>20001</td>\n",
       "      <td>Exeter</td>\n",
       "      <td>40001</td>\n",
       "      <td>43.027778</td>\n",
       "      <td>29.45</td>\n",
       "      <td>5.722222</td>\n",
       "      <td>61.277778</td>\n",
       "      <td>79.055556</td>\n",
       "    </tr>\n",
       "  </tbody>\n",
       "</table>\n",
       "</div>"
      ],
      "text/plain": [
       "   user_id  address_id address_city  device_id   avg_pm25  avg_hum   avg_voc  \\\n",
       "0    10001       20001       Exeter      40001  43.027778    29.45  5.722222   \n",
       "\n",
       "     avg_co2  avg_level  \n",
       "0  61.277778  79.055556  "
      ]
     },
     "execution_count": 47,
     "metadata": {},
     "output_type": "execute_result"
    }
   ],
   "source": [
    "# Calculate the average value of each indicator, and insert the value to the final dataframe\n",
    "data['avg_pm25'] = result2['pm25'].mean()\n",
    "data['avg_hum'] = result2['hum'].mean()\n",
    "data['avg_voc'] = result2['voc'].mean()\n",
    "data['avg_co2'] = result2['co2'].mean()\n",
    "data['avg_level'] = result2['level'].mean()\n",
    "data"
   ]
  },
  {
   "cell_type": "code",
   "execution_count": null,
   "metadata": {},
   "outputs": [],
   "source": []
  },
  {
   "cell_type": "code",
   "execution_count": null,
   "metadata": {},
   "outputs": [],
   "source": []
  },
  {
   "cell_type": "code",
   "execution_count": null,
   "metadata": {},
   "outputs": [],
   "source": []
  },
  {
   "cell_type": "markdown",
   "metadata": {},
   "source": [
    "### Drop all databases"
   ]
  },
  {
   "cell_type": "code",
   "execution_count": 48,
   "metadata": {},
   "outputs": [
    {
     "name": "stdout",
     "output_type": "stream",
     "text": [
      "Table droped successfully\n"
     ]
    }
   ],
   "source": [
    "# Delete Sqlite database\n",
    "qry='''\n",
    "DROP TABLE User;\n",
    "DROP TABLE Address;\n",
    "DROP TABLE Brand;\n",
    "DROP TABLE Device;\n",
    "DROP TABLE Device_Address;\n",
    "'''\n",
    "try:\n",
    "        cur.executescript(qry)\n",
    "        print ('Table droped successfully')\n",
    "except:\n",
    "        print ('Error in droped table')"
   ]
  },
  {
   "cell_type": "code",
   "execution_count": 49,
   "metadata": {},
   "outputs": [],
   "source": [
    "# drop MongoDB database\n",
    "mongoclient.drop_database(\"IoTdb\")"
   ]
  }
 ],
 "metadata": {
  "kernelspec": {
   "display_name": "Python 3",
   "language": "python",
   "name": "python3"
  },
  "language_info": {
   "codemirror_mode": {
    "name": "ipython",
    "version": 3
   },
   "file_extension": ".py",
   "mimetype": "text/x-python",
   "name": "python",
   "nbconvert_exporter": "python",
   "pygments_lexer": "ipython3",
   "version": "3.7.3"
  }
 },
 "nbformat": 4,
 "nbformat_minor": 2
}
